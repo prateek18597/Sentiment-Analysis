{
 "metadata": {
  "name": "",
  "signature": "sha256:03180ea2d513c2783d91f73de8d91c10632fdef3c0a4362589086e8317f9e97b"
 },
 "nbformat": 3,
 "nbformat_minor": 0,
 "worksheets": [
  {
   "cells": [
    {
     "cell_type": "code",
     "collapsed": false,
     "input": [
      "import sys\n",
      "import nltk\n",
      "from sklearn.feature_extraction.text import TfidfVectorizer \n",
      "import pandas as pd\n",
      "from sklearn.linear_model import LogisticRegression\n",
      "from sklearn.metrics import accuracy_score\n",
      "from sklearn.model_selection import train_test_split\n",
      "import numpy as np"
     ],
     "language": "python",
     "metadata": {},
     "outputs": [],
     "prompt_number": 48
    },
    {
     "cell_type": "code",
     "collapsed": false,
     "input": [
      "training_data=[]\n",
      "testing_data=[]\n",
      "\n",
      "for line in open('./aclImdb/movie_data/full_train.txt'):\n",
      "\ttraining_data.append(line);\n",
      "\n",
      "for line in open('./aclImdb/movie_data/full_test.txt'):\n",
      "\ttesting_data.append(line);\n"
     ],
     "language": "python",
     "metadata": {},
     "outputs": [],
     "prompt_number": 2
    },
    {
     "cell_type": "code",
     "collapsed": false,
     "input": [
      "tokenizer=nltk.tokenize.TreebankWordTokenizer();\n",
      "\n",
      "normalized_train=[]\n",
      "\n",
      "for data in training_data:\n",
      "\tnormalized_train.append(tokenizer.tokenize(data));\n",
      "\n",
      "normalized_test=[]\n",
      "\n",
      "for data in testing_data:\n",
      "\tnormalized_test.append(tokenizer.tokenize(data));\n"
     ],
     "language": "python",
     "metadata": {},
     "outputs": [],
     "prompt_number": 3
    },
    {
     "cell_type": "code",
     "collapsed": false,
     "input": [
      "lemmatizer=nltk.stem.WordNetLemmatizer()\n",
      "\n",
      "lemmatized_train=[]\n",
      "lemmatized_test=[]\n",
      "\n",
      "for data in normalized_train:\n",
      "\tlemmatized_train.append(\" \".join(lemmatizer.lemmatize(token) for token in data));\n",
      "\n",
      "for data in normalized_test:\n",
      "\tlemmatized_test.append(\" \".join(lemmatizer.lemmatize(token) for token in data));\n"
     ],
     "language": "python",
     "metadata": {},
     "outputs": [],
     "prompt_number": 4
    },
    {
     "cell_type": "code",
     "collapsed": false,
     "input": [
      "tfidf=TfidfVectorizer( ngram_range=(1, 3),max_df=0.5,min_df=2)\n",
      "\n",
      "tfidf.fit(lemmatized_train)\n",
      "\n",
      "X=tfidf.transform(lemmatized_train)\n",
      "X_test=tfidf.transform(lemmatized_test)\n",
      "\n",
      "target = [1 if i < 12500 else 0 for i in range(25000)]\n",
      "\n",
      "X_train, X_val, y_train, y_val = train_test_split(\n",
      "    X, target, train_size = 0.75\n",
      ")"
     ],
     "language": "python",
     "metadata": {},
     "outputs": [],
     "prompt_number": 18
    },
    {
     "cell_type": "code",
     "collapsed": false,
     "input": [
      "lr=LogisticRegression(C=1)\n",
      "lr.fit(X,target)\n",
      "print (\"Training Accuracy for C=%s: %s\" \n",
      "           % (0.75, accuracy_score(target, lr.predict(X))))\n",
      "print (\"Testing Accuracy for C=%s: %s\" \n",
      "           % (0.75, accuracy_score(target, lr.predict(X_test))))"
     ],
     "language": "python",
     "metadata": {},
     "outputs": [
      {
       "output_type": "stream",
       "stream": "stdout",
       "text": [
        "Training Accuracy for C=0.75: 0.96152\n",
        "Testing Accuracy for C=0.75: 0.89064"
       ]
      },
      {
       "output_type": "stream",
       "stream": "stdout",
       "text": [
        "\n"
       ]
      }
     ],
     "prompt_number": 27
    },
    {
     "cell_type": "code",
     "collapsed": false,
     "input": [
      "statements=[\"THis is a neural statement\",\n",
      "            \"This is a good statement\",\n",
      "            \"This is a bad statement\",\n",
      "            \"This is a not good statement\"]\n",
      "statements.append(\"I am happy\")"
     ],
     "language": "python",
     "metadata": {},
     "outputs": [],
     "prompt_number": 43
    },
    {
     "cell_type": "code",
     "collapsed": false,
     "input": [
      "custom_data=tfidf.transform(statements)\n",
      "print (\"Sentiment: \",lr.predict(custom_data))"
     ],
     "language": "python",
     "metadata": {},
     "outputs": [
      {
       "output_type": "stream",
       "stream": "stdout",
       "text": [
        "Sentiment:  [1 1 0 0 1]\n"
       ]
      }
     ],
     "prompt_number": 44
    },
    {
     "cell_type": "code",
     "collapsed": false,
     "input": [
      "# f = open(\"weights.txt\", \"a\")\n",
      "np.savetxt(\"weights.txt\",lr.coef_)"
     ],
     "language": "python",
     "metadata": {},
     "outputs": [],
     "prompt_number": 49
    },
    {
     "cell_type": "code",
     "collapsed": false,
     "input": [],
     "language": "python",
     "metadata": {},
     "outputs": []
    }
   ],
   "metadata": {}
  }
 ]
}